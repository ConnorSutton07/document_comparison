{
 "cells": [
  {
   "cell_type": "code",
   "execution_count": 3,
   "id": "37c3d710-de30-45d5-8ddb-8b4ef8c953a3",
   "metadata": {
    "tags": []
   },
   "outputs": [],
   "source": [
    "from pydantic import BaseModel, Field, PrivateAttr\n",
    "from typing import Optional, Type, Dict, List\n",
    "from tqdm import tqdm\n",
    "\n",
    "from langchain.chat_models import ChatOpenAI\n",
    "from langchain.tools import BaseTool, StructuredTool, Tool\n",
    "from langchain.embeddings.openai import OpenAIEmbeddings\n",
    "from langchain.embeddings import HuggingFaceEmbeddings\n",
    "from langchain.text_splitter import CharacterTextSplitter, RecursiveCharacterTextSplitter, TextSplitter\n",
    "from langchain.vectorstores import FAISS, Chroma\n",
    "from langchain.document_loaders import PyPDFLoader\n",
    "from langchain.chains import RetrievalQA\n",
    "from langchain.agents import initialize_agent, AgentType\n",
    "from langchain.callbacks.manager import AsyncCallbackManagerForToolRun, CallbackManagerForToolRun\n",
    "from pypdf import PdfReader\n",
    "import json\n",
    "\n",
    "import os.path as osp, os"
   ]
  },
  {
   "cell_type": "code",
   "execution_count": 4,
   "id": "d4ea5898-06e1-4760-be1a-6b4f54adf299",
   "metadata": {
    "tags": []
   },
   "outputs": [],
   "source": [
    "class DocumentInput(BaseModel):\n",
    "    question: str = Field()\n",
    "    \n",
    "class DocumentInfoTool(BaseTool):\n",
    "    name = \"document_info\"\n",
    "    description = \"Useful for when you need to find the author and publishing date of an article. The 'query' variable should be the filename of the article, formatted as Lastname_year; for example, Bawden_2001\"\n",
    "    _doc_metadata: Dict = PrivateAttr()\n",
    "    \n",
    "    def __init__(self):\n",
    "        super(BaseTool, self).__init__()\n",
    "        with open(osp.join('docs', 'metadata.json')) as f: \n",
    "            self._doc_metadata = json.load(f) \n",
    "        \n",
    "    def _run(self, query: str, run_manager: Optional[CallbackManagerForToolRun] = None) -> Dict:\n",
    "        return self._doc_metadata[query]\n",
    "    \n",
    "    def _arun(self, query: str, run_manager: Optional[CallbackManagerForToolRun] = None) -> Dict:\n",
    "        raise NotImplementedError(\"document_info does not support async\")"
   ]
  },
  {
   "cell_type": "code",
   "execution_count": 5,
   "id": "23b2f82d-92ed-4498-92c0-cca87f08fa51",
   "metadata": {
    "tags": []
   },
   "outputs": [],
   "source": [
    "def preprocess_doc(\n",
    "        path: str,\n",
    "        splitter_type: TextSplitter = RecursiveCharacterTextSplitter,\n",
    "        **splitter_kwargs\n",
    "    ) -> List[any]:\n",
    "    \n",
    "    splitter = splitter_type(**splitter_kwargs)\n",
    "    loader = PyPDFLoader(path)\n",
    "    pages = loader.load_and_split()\n",
    "    docs = splitter.split_documents(pages)\n",
    "    return docs\n",
    "\n",
    "llm = ChatOpenAI(model_name=\"gpt-3.5-turbo\", temperature=0)"
   ]
  },
  {
   "cell_type": "code",
   "execution_count": 10,
   "id": "c81085fa-a319-435b-82ce-b375542c6fc3",
   "metadata": {
    "tags": []
   },
   "outputs": [
    {
     "name": "stderr",
     "output_type": "stream",
     "text": [
      "100%|█████████████████████████████████████████████████████████████████████████████████████| 4/4 [03:59<00:00, 59.95s/it]\n"
     ]
    }
   ],
   "source": [
    "pdfs = [osp.join('docs', doc) for doc in os.listdir('docs') if doc[-3:] == 'pdf']\n",
    "files = []\n",
    "for pdf in pdfs:\n",
    "    file_name = pdf.split('/')[-1][:-4]\n",
    "    d = {\n",
    "        \"name\": file_name,\n",
    "        \"path\": pdf\n",
    "    }\n",
    "    files.append(d)\n",
    "\n",
    "tools = [DocumentInfoTool()] \n",
    "for file in tqdm(files, total=len(files)):\n",
    "    persist_directory = osp.join('docs', 'vectors', file[\"name\"])\n",
    "    embedding = HuggingFaceEmbeddings()\n",
    "    if not osp.exists(persist_directory):\n",
    "        docs = preprocess_doc(\n",
    "            file[\"path\"],\n",
    "            chunk_size=1000,\n",
    "            chunk_overlap=150,\n",
    "            separators = [\"\\n\\n\", \"\\n\", \" \", \"\"]\n",
    "        )\n",
    "        db = Chroma.from_documents(\n",
    "            documents=docs,\n",
    "            embedding=embedding,\n",
    "            persist_directory=persist_directory\n",
    "        )\n",
    "        db.persist()\n",
    "    else:\n",
    "        db = Chroma(\n",
    "            persist_directory = persist_directory,\n",
    "            embedding_function=embedding\n",
    "        )\n",
    "    retriever = db.as_retriever()\n",
    "    tools.append(Tool(\n",
    "        args_schema=DocumentInput,\n",
    "        name=file[\"name\"],\n",
    "        description=f\"Used to answer questions about the contents of the article that corresponds to {file['name']}\",\n",
    "        func=RetrievalQA.from_chain_type(llm=llm, retriever=retriever),\n",
    "    ))"
   ]
  },
  {
   "cell_type": "code",
   "execution_count": 11,
   "id": "bd7a9dba-9793-49ab-9992-e36903fb5a34",
   "metadata": {
    "tags": []
   },
   "outputs": [],
   "source": [
    "agent = initialize_agent(\n",
    "    agent = AgentType.OPENAI_FUNCTIONS, #AgentType.ZERO_SHOT_REACT_DESCRIPTION,\n",
    "    tools = tools,\n",
    "    llm = llm, \n",
    "    verbose = True\n",
    ")"
   ]
  },
  {
   "cell_type": "code",
   "execution_count": 12,
   "id": "e50478bb-e150-4bf8-a002-497b85d6e577",
   "metadata": {
    "tags": []
   },
   "outputs": [],
   "source": [
    "# agent({\"input\": \"Who are the authors of the two articles?\"})"
   ]
  },
  {
   "cell_type": "code",
   "execution_count": 13,
   "id": "59ae1d6b-cbd4-4e0f-91da-b3ed90328601",
   "metadata": {
    "tags": []
   },
   "outputs": [
    {
     "name": "stdout",
     "output_type": "stream",
     "text": [
      "\n",
      "\n",
      "\u001b[1m> Entering new  chain...\u001b[0m\n",
      "\u001b[32;1m\u001b[1;3m\n",
      "Invoking: `Bawden_2001` with `{'question': 'Does the author speak about Moche social change?'}`\n",
      "\n",
      "\n",
      "\u001b[0m\u001b[33;1m\u001b[1;3m{'query': 'Does the author speak about Moche social change?', 'result': 'Yes, the author does speak about Moche social change. They discuss how Moche Valley leaders attempted to combine traditional features with new pan-Andean features in order to construct an effective ideological system. They also mention the extreme social alienation inflicted upon the non-elite population due to the transformation to urban life, which led to social stratification and economic deprivation. The author also discusses how commoners manipulated the new social context to establish their group identity in the face of these changes.'}\u001b[0m\u001b[32;1m\u001b[1;3m\n",
      "Invoking: `Billman_2010` with `{'question': 'Does the author speak about Moche social change?'}`\n",
      "\n",
      "\n",
      "\u001b[0m\u001b[38;5;200m\u001b[1;3m{'query': 'Does the author speak about Moche social change?', 'result': 'Yes, the author does mention social change in relation to Moche culture. They discuss the transformation of rituals, politics, death, and daily life during the Middle Moche phases, which involved blending old and new beliefs. This new ideology required the mobilization of labor and goods on a large scale, as well as the provision of resources for ruling families, retainers, and potentially special classes of warriors.'}\u001b[0m"
     ]
    },
    {
     "name": "stderr",
     "output_type": "stream",
     "text": [
      "Retrying langchain.chat_models.openai.ChatOpenAI.completion_with_retry.<locals>._completion_with_retry in 1.0 seconds as it raised RateLimitError: Rate limit reached for default-gpt-3.5-turbo in organization org-Kn91yyzjZe8CpSTwoI7RID3Z on requests per min. Limit: 3 / min. Please try again in 20s. Contact us through our help center at help.openai.com if you continue to have issues. Please add a payment method to your account to increase your rate limit. Visit https://platform.openai.com/account/billing to add a payment method..\n",
      "Retrying langchain.chat_models.openai.ChatOpenAI.completion_with_retry.<locals>._completion_with_retry in 2.0 seconds as it raised RateLimitError: Rate limit reached for default-gpt-3.5-turbo in organization org-Kn91yyzjZe8CpSTwoI7RID3Z on requests per min. Limit: 3 / min. Please try again in 20s. Contact us through our help center at help.openai.com if you continue to have issues. Please add a payment method to your account to increase your rate limit. Visit https://platform.openai.com/account/billing to add a payment method..\n",
      "Retrying langchain.chat_models.openai.ChatOpenAI.completion_with_retry.<locals>._completion_with_retry in 4.0 seconds as it raised RateLimitError: Rate limit reached for default-gpt-3.5-turbo in organization org-Kn91yyzjZe8CpSTwoI7RID3Z on requests per min. Limit: 3 / min. Please try again in 20s. Contact us through our help center at help.openai.com if you continue to have issues. Please add a payment method to your account to increase your rate limit. Visit https://platform.openai.com/account/billing to add a payment method..\n",
      "Retrying langchain.chat_models.openai.ChatOpenAI.completion_with_retry.<locals>._completion_with_retry in 8.0 seconds as it raised RateLimitError: Rate limit reached for default-gpt-3.5-turbo in organization org-Kn91yyzjZe8CpSTwoI7RID3Z on requests per min. Limit: 3 / min. Please try again in 20s. Contact us through our help center at help.openai.com if you continue to have issues. Please add a payment method to your account to increase your rate limit. Visit https://platform.openai.com/account/billing to add a payment method..\n"
     ]
    },
    {
     "name": "stdout",
     "output_type": "stream",
     "text": [
      "\u001b[32;1m\u001b[1;3m\n",
      "Invoking: `Dillehay_2001` with `{'question': 'Does the author speak about Moche social change?'}`\n",
      "\n",
      "\n",
      "\u001b[0m"
     ]
    },
    {
     "name": "stderr",
     "output_type": "stream",
     "text": [
      "Retrying langchain.chat_models.openai.ChatOpenAI.completion_with_retry.<locals>._completion_with_retry in 1.0 seconds as it raised RateLimitError: Rate limit reached for default-gpt-3.5-turbo in organization org-Kn91yyzjZe8CpSTwoI7RID3Z on requests per min. Limit: 3 / min. Please try again in 20s. Contact us through our help center at help.openai.com if you continue to have issues. Please add a payment method to your account to increase your rate limit. Visit https://platform.openai.com/account/billing to add a payment method..\n",
      "Retrying langchain.chat_models.openai.ChatOpenAI.completion_with_retry.<locals>._completion_with_retry in 2.0 seconds as it raised RateLimitError: Rate limit reached for default-gpt-3.5-turbo in organization org-Kn91yyzjZe8CpSTwoI7RID3Z on requests per min. Limit: 3 / min. Please try again in 20s. Contact us through our help center at help.openai.com if you continue to have issues. Please add a payment method to your account to increase your rate limit. Visit https://platform.openai.com/account/billing to add a payment method..\n",
      "Retrying langchain.chat_models.openai.ChatOpenAI.completion_with_retry.<locals>._completion_with_retry in 4.0 seconds as it raised RateLimitError: Rate limit reached for default-gpt-3.5-turbo in organization org-Kn91yyzjZe8CpSTwoI7RID3Z on requests per min. Limit: 3 / min. Please try again in 20s. Contact us through our help center at help.openai.com if you continue to have issues. Please add a payment method to your account to increase your rate limit. Visit https://platform.openai.com/account/billing to add a payment method..\n",
      "Retrying langchain.chat_models.openai.ChatOpenAI.completion_with_retry.<locals>._completion_with_retry in 8.0 seconds as it raised RateLimitError: Rate limit reached for default-gpt-3.5-turbo in organization org-Kn91yyzjZe8CpSTwoI7RID3Z on requests per min. Limit: 3 / min. Please try again in 20s. Contact us through our help center at help.openai.com if you continue to have issues. Please add a payment method to your account to increase your rate limit. Visit https://platform.openai.com/account/billing to add a payment method..\n"
     ]
    },
    {
     "name": "stdout",
     "output_type": "stream",
     "text": [
      "\u001b[36;1m\u001b[1;3m{'query': 'Does the author speak about Moche social change?', 'result': 'Yes, the author discusses social change in the late Moche culture. They mention that there were ideological changes and political conflict during this time, and that both elites and the wider subject population were affected by periods of widespread change. The responses of the people to stress and their interactions with ruling elites played a role in shaping the course of late Moche history.'}\u001b[0m"
     ]
    },
    {
     "name": "stderr",
     "output_type": "stream",
     "text": [
      "Retrying langchain.chat_models.openai.ChatOpenAI.completion_with_retry.<locals>._completion_with_retry in 1.0 seconds as it raised RateLimitError: Rate limit reached for default-gpt-3.5-turbo in organization org-Kn91yyzjZe8CpSTwoI7RID3Z on requests per min. Limit: 3 / min. Please try again in 20s. Contact us through our help center at help.openai.com if you continue to have issues. Please add a payment method to your account to increase your rate limit. Visit https://platform.openai.com/account/billing to add a payment method..\n",
      "Retrying langchain.chat_models.openai.ChatOpenAI.completion_with_retry.<locals>._completion_with_retry in 2.0 seconds as it raised RateLimitError: Rate limit reached for default-gpt-3.5-turbo in organization org-Kn91yyzjZe8CpSTwoI7RID3Z on requests per min. Limit: 3 / min. Please try again in 20s. Contact us through our help center at help.openai.com if you continue to have issues. Please add a payment method to your account to increase your rate limit. Visit https://platform.openai.com/account/billing to add a payment method..\n",
      "Retrying langchain.chat_models.openai.ChatOpenAI.completion_with_retry.<locals>._completion_with_retry in 4.0 seconds as it raised RateLimitError: Rate limit reached for default-gpt-3.5-turbo in organization org-Kn91yyzjZe8CpSTwoI7RID3Z on requests per min. Limit: 3 / min. Please try again in 20s. Contact us through our help center at help.openai.com if you continue to have issues. Please add a payment method to your account to increase your rate limit. Visit https://platform.openai.com/account/billing to add a payment method..\n",
      "Retrying langchain.chat_models.openai.ChatOpenAI.completion_with_retry.<locals>._completion_with_retry in 8.0 seconds as it raised RateLimitError: Rate limit reached for default-gpt-3.5-turbo in organization org-Kn91yyzjZe8CpSTwoI7RID3Z on requests per min. Limit: 3 / min. Please try again in 20s. Contact us through our help center at help.openai.com if you continue to have issues. Please add a payment method to your account to increase your rate limit. Visit https://platform.openai.com/account/billing to add a payment method..\n",
      "Retrying langchain.chat_models.openai.ChatOpenAI.completion_with_retry.<locals>._completion_with_retry in 1.0 seconds as it raised RateLimitError: Rate limit reached for default-gpt-3.5-turbo in organization org-Kn91yyzjZe8CpSTwoI7RID3Z on requests per min. Limit: 3 / min. Please try again in 20s. Contact us through our help center at help.openai.com if you continue to have issues. Please add a payment method to your account to increase your rate limit. Visit https://platform.openai.com/account/billing to add a payment method..\n"
     ]
    },
    {
     "name": "stdout",
     "output_type": "stream",
     "text": [
      "\u001b[32;1m\u001b[1;3m\n",
      "Invoking: `Swenson_2007` with `{'question': 'Does the author speak about Moche social change?'}`\n",
      "\n",
      "\n",
      "\u001b[0m"
     ]
    },
    {
     "name": "stderr",
     "output_type": "stream",
     "text": [
      "Retrying langchain.chat_models.openai.ChatOpenAI.completion_with_retry.<locals>._completion_with_retry in 2.0 seconds as it raised RateLimitError: Rate limit reached for default-gpt-3.5-turbo in organization org-Kn91yyzjZe8CpSTwoI7RID3Z on requests per min. Limit: 3 / min. Please try again in 20s. Contact us through our help center at help.openai.com if you continue to have issues. Please add a payment method to your account to increase your rate limit. Visit https://platform.openai.com/account/billing to add a payment method..\n",
      "Retrying langchain.chat_models.openai.ChatOpenAI.completion_with_retry.<locals>._completion_with_retry in 4.0 seconds as it raised RateLimitError: Rate limit reached for default-gpt-3.5-turbo in organization org-Kn91yyzjZe8CpSTwoI7RID3Z on requests per min. Limit: 3 / min. Please try again in 20s. Contact us through our help center at help.openai.com if you continue to have issues. Please add a payment method to your account to increase your rate limit. Visit https://platform.openai.com/account/billing to add a payment method..\n",
      "Retrying langchain.chat_models.openai.ChatOpenAI.completion_with_retry.<locals>._completion_with_retry in 8.0 seconds as it raised RateLimitError: Rate limit reached for default-gpt-3.5-turbo in organization org-Kn91yyzjZe8CpSTwoI7RID3Z on requests per min. Limit: 3 / min. Please try again in 20s. Contact us through our help center at help.openai.com if you continue to have issues. Please add a payment method to your account to increase your rate limit. Visit https://platform.openai.com/account/billing to add a payment method..\n"
     ]
    },
    {
     "name": "stdout",
     "output_type": "stream",
     "text": [
      "\u001b[33;1m\u001b[1;3m{'query': 'Does the author speak about Moche social change?', 'result': 'Yes, the author does speak about Moche social change. They discuss how environmental disruptions, such as droughts and dune encroachments, led to social and economic dislocation. They also mention the reconfiguration of Late Moche power relations and economic structures in specific northern valleys. The author argues that political factors played an equal or more important role than climate change in the reorganization of Moche polities.'}\u001b[0m"
     ]
    },
    {
     "name": "stderr",
     "output_type": "stream",
     "text": [
      "Retrying langchain.chat_models.openai.ChatOpenAI.completion_with_retry.<locals>._completion_with_retry in 1.0 seconds as it raised RateLimitError: Rate limit reached for default-gpt-3.5-turbo in organization org-Kn91yyzjZe8CpSTwoI7RID3Z on requests per min. Limit: 3 / min. Please try again in 20s. Contact us through our help center at help.openai.com if you continue to have issues. Please add a payment method to your account to increase your rate limit. Visit https://platform.openai.com/account/billing to add a payment method..\n",
      "Retrying langchain.chat_models.openai.ChatOpenAI.completion_with_retry.<locals>._completion_with_retry in 2.0 seconds as it raised RateLimitError: Rate limit reached for default-gpt-3.5-turbo in organization org-Kn91yyzjZe8CpSTwoI7RID3Z on requests per min. Limit: 3 / min. Please try again in 20s. Contact us through our help center at help.openai.com if you continue to have issues. Please add a payment method to your account to increase your rate limit. Visit https://platform.openai.com/account/billing to add a payment method..\n",
      "Retrying langchain.chat_models.openai.ChatOpenAI.completion_with_retry.<locals>._completion_with_retry in 4.0 seconds as it raised RateLimitError: Rate limit reached for default-gpt-3.5-turbo in organization org-Kn91yyzjZe8CpSTwoI7RID3Z on requests per min. Limit: 3 / min. Please try again in 20s. Contact us through our help center at help.openai.com if you continue to have issues. Please add a payment method to your account to increase your rate limit. Visit https://platform.openai.com/account/billing to add a payment method..\n"
     ]
    },
    {
     "name": "stdout",
     "output_type": "stream",
     "text": [
      "\u001b[32;1m\u001b[1;3mBased on my analysis of the articles, all of the authors do speak about Moche social change. Here are their views on what caused this change:\n",
      "\n",
      "- Bawden (2001): Bawden discusses how Moche Valley leaders attempted to combine traditional features with new pan-Andean features in order to construct an effective ideological system. They also mention the extreme social alienation inflicted upon the non-elite population due to the transformation to urban life, which led to social stratification and economic deprivation. Bawden also discusses how commoners manipulated the new social context to establish their group identity in the face of these changes.\n",
      "\n",
      "- Billman (2010): Billman mentions that social change in Moche culture involved the transformation of rituals, politics, death, and daily life during the Middle Moche phases. This transformation required the blending of old and new beliefs and the mobilization of labor and goods on a large scale. The provision of resources for ruling families, retainers, and potentially special classes of warriors was also necessary.\n",
      "\n",
      "- Dillehay (2001): Dillehay discusses social change in the late Moche culture, mentioning ideological changes and political conflict. Both elites and the wider subject population were affected by periods of widespread change. The responses of the people to stress and their interactions with ruling elites played a role in shaping the course of late Moche history.\n",
      "\n",
      "- Swenson (2007): Swenson discusses how environmental disruptions, such as droughts and dune encroachments, led to social and economic dislocation in Moche society. They argue that political factors played an equal or more important role than climate change in the reorganization of Moche polities. The reconfiguration of Late Moche power relations and economic structures in specific northern valleys is also mentioned.\n",
      "\n",
      "Based on these observations, we can organize the authors into the following groups based on the similarities of their analyses:\n",
      "\n",
      "Group 1: Bawden (2001) and Billman (2010)\n",
      "- Both authors discuss the blending of old and new beliefs in Moche culture during periods of social change.\n",
      "- Both authors mention the mobilization of labor and goods on a large scale during these periods.\n",
      "- Both authors highlight the provision of resources for ruling families and potentially special classes of warriors.\n",
      "\n",
      "Group 2: Dillehay (2001)\n",
      "- Dillehay focuses on ideological changes and political conflict during the late Moche culture.\n",
      "- They emphasize the role of the responses of the people to stress and their interactions with ruling elites in shaping the course of late Moche history.\n",
      "\n",
      "Group 3: Swenson (2007)\n",
      "- Swenson emphasizes the impact of environmental disruptions, such as droughts and dune encroachments, on social and economic dislocation in Moche society.\n",
      "- They argue that political factors played an equal or more important role than climate change in the reorganization of Moche polities.\n",
      "\n",
      "These groupings are based on the similarities in the authors' views on the causes of Moche social change.\u001b[0m\n",
      "\n",
      "\u001b[1m> Finished chain.\u001b[0m\n"
     ]
    },
    {
     "data": {
      "text/plain": [
       "{'input': '\\nFirst, go through all of the articles you can find and check whether the author speaksabout Moche social change. Make sure to take note of their views on what caused \\\\ \\nthis change. \\n\\nSecond, if the author does both speak about social change, observe what they think caused such change. Make note of this.\\n\\nThird, take your observations of how each author addresses Moche social change, and try\\nto organize them into groups based on the similarities of their analyses. For example,\\nif two authors both indicate that invasive forces caused the changes, then they might be grouped together, while an author that claims creative experimentation caused the changes should be put in a separate group.\\n\\n',\n",
       " 'output': \"Based on my analysis of the articles, all of the authors do speak about Moche social change. Here are their views on what caused this change:\\n\\n- Bawden (2001): Bawden discusses how Moche Valley leaders attempted to combine traditional features with new pan-Andean features in order to construct an effective ideological system. They also mention the extreme social alienation inflicted upon the non-elite population due to the transformation to urban life, which led to social stratification and economic deprivation. Bawden also discusses how commoners manipulated the new social context to establish their group identity in the face of these changes.\\n\\n- Billman (2010): Billman mentions that social change in Moche culture involved the transformation of rituals, politics, death, and daily life during the Middle Moche phases. This transformation required the blending of old and new beliefs and the mobilization of labor and goods on a large scale. The provision of resources for ruling families, retainers, and potentially special classes of warriors was also necessary.\\n\\n- Dillehay (2001): Dillehay discusses social change in the late Moche culture, mentioning ideological changes and political conflict. Both elites and the wider subject population were affected by periods of widespread change. The responses of the people to stress and their interactions with ruling elites played a role in shaping the course of late Moche history.\\n\\n- Swenson (2007): Swenson discusses how environmental disruptions, such as droughts and dune encroachments, led to social and economic dislocation in Moche society. They argue that political factors played an equal or more important role than climate change in the reorganization of Moche polities. The reconfiguration of Late Moche power relations and economic structures in specific northern valleys is also mentioned.\\n\\nBased on these observations, we can organize the authors into the following groups based on the similarities of their analyses:\\n\\nGroup 1: Bawden (2001) and Billman (2010)\\n- Both authors discuss the blending of old and new beliefs in Moche culture during periods of social change.\\n- Both authors mention the mobilization of labor and goods on a large scale during these periods.\\n- Both authors highlight the provision of resources for ruling families and potentially special classes of warriors.\\n\\nGroup 2: Dillehay (2001)\\n- Dillehay focuses on ideological changes and political conflict during the late Moche culture.\\n- They emphasize the role of the responses of the people to stress and their interactions with ruling elites in shaping the course of late Moche history.\\n\\nGroup 3: Swenson (2007)\\n- Swenson emphasizes the impact of environmental disruptions, such as droughts and dune encroachments, on social and economic dislocation in Moche society.\\n- They argue that political factors played an equal or more important role than climate change in the reorganization of Moche polities.\\n\\nThese groupings are based on the similarities in the authors' views on the causes of Moche social change.\"}"
      ]
     },
     "execution_count": 13,
     "metadata": {},
     "output_type": "execute_result"
    }
   ],
   "source": [
    "#agent({\"input\": \"Do both Edward Swenson and Garth Bawden speak about Moche social change? If so, do they seem to be in agreement regarding the causal factors of that change?\"})\n",
    "agent({\"input\": \"\"\"\n",
    "First, go through all of the articles you can find and check whether the author speaks\\\n",
    "about Moche social change. \\\n",
    "\n",
    "Second, if the author does both speak about social change, observe what they think \\\n",
    "caused such change. Make note of this.\n",
    "\n",
    "Third, take your observations of how each author addresses Moche social change, and try\n",
    "to organize them into groups based on the similarities of their analyses. For example,\n",
    "if two authors both indicate that invasive forces caused the changes, then they might be \\\n",
    "grouped together, while an author that claims creative experimentation caused the changes \\\n",
    "should be put in a separate group.\n",
    "\n",
    "\"\"\"})"
   ]
  },
  {
   "cell_type": "code",
   "execution_count": null,
   "id": "a12a7a54-aa11-4e32-b421-4576366f23e4",
   "metadata": {},
   "outputs": [],
   "source": []
  }
 ],
 "metadata": {
  "kernelspec": {
   "display_name": "Python 3 (ipykernel)",
   "language": "python",
   "name": "python3"
  },
  "language_info": {
   "codemirror_mode": {
    "name": "ipython",
    "version": 3
   },
   "file_extension": ".py",
   "mimetype": "text/x-python",
   "name": "python",
   "nbconvert_exporter": "python",
   "pygments_lexer": "ipython3",
   "version": "3.8.10"
  }
 },
 "nbformat": 4,
 "nbformat_minor": 5
}
